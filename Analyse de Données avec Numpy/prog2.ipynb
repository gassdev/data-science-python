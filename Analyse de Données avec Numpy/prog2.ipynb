{
 "cells": [
  {
   "cell_type": "markdown",
   "id": "dbe83733",
   "metadata": {},
   "source": [
    "# Remplacer des valeurs dans un tableau Numpy"
   ]
  },
  {
   "cell_type": "code",
   "execution_count": 13,
   "id": "59acbaca",
   "metadata": {},
   "outputs": [
    {
     "data": {
      "text/plain": [
       "array([['1986', 'Western Pacific', 'Viet Nam', 'Wine', '0'],\n",
       "       ['1986', 'Americas', 'Uruguay', 'Other', '0.5'],\n",
       "       ['1985', 'Africa', \"Cte d'Ivoire\", 'Wine', '1.62'],\n",
       "       ...,\n",
       "       ['1986', 'Europe', 'Switzerland', 'Spirits', '2.54'],\n",
       "       ['1987', 'Western Pacific', 'Papua New Guinea', 'Other', '0'],\n",
       "       ['1986', 'Africa', 'Swaziland', 'Other', '5.15']], dtype='<U75')"
      ]
     },
     "execution_count": 13,
     "metadata": {},
     "output_type": "execute_result"
    }
   ],
   "source": [
    "import numpy as np\n",
    "world_alcohol = np.genfromtxt(\"../data.csv\", \n",
    "                              delimiter=\",\", \n",
    "                              dtype=\"U75\",\n",
    "                              skip_header=1\n",
    "                             )\n",
    "world_alcohol"
   ]
  },
  {
   "cell_type": "code",
   "execution_count": 14,
   "id": "1f121ebe",
   "metadata": {},
   "outputs": [],
   "source": [
    "vector = np.array([5, 10, 15, 20])"
   ]
  },
  {
   "cell_type": "code",
   "execution_count": 15,
   "id": "531a32a3",
   "metadata": {},
   "outputs": [
    {
     "data": {
      "text/plain": [
       "array([ 5, 10, 15, 20])"
      ]
     },
     "execution_count": 15,
     "metadata": {},
     "output_type": "execute_result"
    }
   ],
   "source": [
    "vector"
   ]
  },
  {
   "cell_type": "code",
   "execution_count": 16,
   "id": "0f6d308e",
   "metadata": {},
   "outputs": [
    {
     "name": "stdout",
     "output_type": "stream",
     "text": [
      "[ True  True False False]\n"
     ]
    }
   ],
   "source": [
    "equal_to_ten_of_five = (vector == 10) | (vector == 5)\n",
    "print(equal_to_ten_of_five)"
   ]
  },
  {
   "cell_type": "code",
   "execution_count": 17,
   "id": "d7772088",
   "metadata": {},
   "outputs": [
    {
     "name": "stdout",
     "output_type": "stream",
     "text": [
      "[50 50 15 20]\n"
     ]
    }
   ],
   "source": [
    "vector[equal_to_ten_of_five] = 50\n",
    "print(vector)"
   ]
  },
  {
   "cell_type": "code",
   "execution_count": 18,
   "id": "3c474d57",
   "metadata": {},
   "outputs": [],
   "source": [
    "matrix = np.array([[5,10,15],[20,25,30],[35,40,45]])"
   ]
  },
  {
   "cell_type": "code",
   "execution_count": 19,
   "id": "ec9e44c1",
   "metadata": {},
   "outputs": [
    {
     "data": {
      "text/plain": [
       "array([[ 5, 10, 15],\n",
       "       [20, 25, 30],\n",
       "       [35, 40, 45]])"
      ]
     },
     "execution_count": 19,
     "metadata": {},
     "output_type": "execute_result"
    }
   ],
   "source": [
    "matrix"
   ]
  },
  {
   "cell_type": "code",
   "execution_count": 20,
   "id": "50dfbda6",
   "metadata": {},
   "outputs": [
    {
     "name": "stdout",
     "output_type": "stream",
     "text": [
      "[False  True False]\n"
     ]
    }
   ],
   "source": [
    "second_column_25 = matrix[:,1] == 25\n",
    "print(second_column_25)"
   ]
  },
  {
   "cell_type": "code",
   "execution_count": 21,
   "id": "b281efe4",
   "metadata": {},
   "outputs": [
    {
     "name": "stdout",
     "output_type": "stream",
     "text": [
      "[[ 5 10 15]\n",
      " [20 10 30]\n",
      " [35 40 45]]\n"
     ]
    }
   ],
   "source": [
    "matrix[second_column_25,1] = 10\n",
    "print(matrix)"
   ]
  },
  {
   "cell_type": "markdown",
   "id": "7267b3c0",
   "metadata": {},
   "source": [
    "- Créer un tableau numpy world_alcohol_2 égal world_alcohol pour le dupliquer sous un autre nom.\n",
    "- Remplacer toutes les années \"1986\" de la première colonne de world_alcohol_2 par \"2018\".\n",
    "- Remplacer tous les alcools \"Wine\" de la 4e colonne de world_alcohol_2 par \"Beer\"."
   ]
  },
  {
   "cell_type": "code",
   "execution_count": 22,
   "id": "68fa491e",
   "metadata": {},
   "outputs": [
    {
     "name": "stdout",
     "output_type": "stream",
     "text": [
      "[['2018' 'Western Pacific' 'Viet Nam' 'Beer' '0']\n",
      " ['2018' 'Americas' 'Uruguay' 'Other' '0.5']\n",
      " ['1985' 'Africa' \"Cte d'Ivoire\" 'Beer' '1.62']\n",
      " ...\n",
      " ['2018' 'Europe' 'Switzerland' 'Spirits' '2.54']\n",
      " ['1987' 'Western Pacific' 'Papua New Guinea' 'Other' '0']\n",
      " ['2018' 'Africa' 'Swaziland' 'Other' '5.15']]\n"
     ]
    }
   ],
   "source": [
    "world_alcohol_2 = world_alcohol\n",
    "first_column_1986 = (world_alcohol_2[:,0] == \"1986\")\n",
    "world_alcohol_2[first_column_1986,0] = \"2018\"\n",
    "fourth_column_wine = world_alcohol_2[:,3] == \"Wine\"\n",
    "world_alcohol_2[fourth_column_wine,3] = \"Beer\"\n",
    "print(world_alcohol_2)"
   ]
  },
  {
   "cell_type": "markdown",
   "id": "35d92a1c",
   "metadata": {},
   "source": [
    "## Remplacer les chaines de caractères vides\n",
    "- Comparer tous les éléments de la 5e colonne de world_alcohol avec la chaine de caractères vides c'est à dire ''. Assigner le résultat à la variable is_value_empty.\n",
    "- Sélectionner toutes les valeurs de la 5e colonne de world_alcohol pour lesquelles is_value_empty est égal à True et enfin les remplacer par la chaine de caractères '0'."
   ]
  },
  {
   "cell_type": "code",
   "execution_count": 23,
   "id": "f06ff436",
   "metadata": {},
   "outputs": [],
   "source": [
    "is_value_empty = (world_alcohol[:,4] == '')\n",
    "world_alcohol[is_value_empty,4] = '0'"
   ]
  },
  {
   "cell_type": "code",
   "execution_count": null,
   "id": "936f1247",
   "metadata": {},
   "outputs": [],
   "source": []
  }
 ],
 "metadata": {
  "kernelspec": {
   "display_name": "Python 3",
   "language": "python",
   "name": "python3"
  },
  "language_info": {
   "codemirror_mode": {
    "name": "ipython",
    "version": 3
   },
   "file_extension": ".py",
   "mimetype": "text/x-python",
   "name": "python",
   "nbconvert_exporter": "python",
   "pygments_lexer": "ipython3",
   "version": "3.8.5"
  }
 },
 "nbformat": 4,
 "nbformat_minor": 5
}
