{
 "cells": [
  {
   "cell_type": "markdown",
   "id": "fcc2721e",
   "metadata": {},
   "source": [
    "# Convertir des types de données"
   ]
  },
  {
   "cell_type": "code",
   "execution_count": 1,
   "id": "2b57fd65",
   "metadata": {},
   "outputs": [
    {
     "data": {
      "text/plain": [
       "array([['1986', 'Western Pacific', 'Viet Nam', 'Wine', '0'],\n",
       "       ['1986', 'Americas', 'Uruguay', 'Other', '0.5'],\n",
       "       ['1985', 'Africa', \"Cte d'Ivoire\", 'Wine', '1.62'],\n",
       "       ...,\n",
       "       ['1986', 'Europe', 'Switzerland', 'Spirits', '2.54'],\n",
       "       ['1987', 'Western Pacific', 'Papua New Guinea', 'Other', '0'],\n",
       "       ['1986', 'Africa', 'Swaziland', 'Other', '5.15']], dtype='<U75')"
      ]
     },
     "execution_count": 1,
     "metadata": {},
     "output_type": "execute_result"
    }
   ],
   "source": [
    "import numpy as np\n",
    "world_alcohol = np.genfromtxt(\"../data.csv\", \n",
    "                              delimiter=\",\", \n",
    "                              dtype=\"U75\",\n",
    "                              skip_header=1\n",
    "                             )\n",
    "world_alcohol"
   ]
  },
  {
   "cell_type": "code",
   "execution_count": 2,
   "id": "1bde9b69",
   "metadata": {},
   "outputs": [],
   "source": [
    "vector = np.array([\"1\", \"2\", \"3\"])"
   ]
  },
  {
   "cell_type": "code",
   "execution_count": 3,
   "id": "a14cc689",
   "metadata": {},
   "outputs": [],
   "source": [
    "vector = vector.astype(float)"
   ]
  },
  {
   "cell_type": "code",
   "execution_count": 4,
   "id": "6a35fdac",
   "metadata": {},
   "outputs": [
    {
     "data": {
      "text/plain": [
       "array([1., 2., 3.])"
      ]
     },
     "execution_count": 4,
     "metadata": {},
     "output_type": "execute_result"
    }
   ],
   "source": [
    "vector"
   ]
  },
  {
   "cell_type": "code",
   "execution_count": 5,
   "id": "c5fcd3df",
   "metadata": {},
   "outputs": [],
   "source": [
    "is_value_empty = world_alcohol[:,4] == ''\n",
    "world_alcohol[is_value_empty,4] = '0'"
   ]
  },
  {
   "cell_type": "markdown",
   "id": "32e34b54",
   "metadata": {},
   "source": [
    "## Convertir des types de données\n",
    "\n",
    "- Extraire la 5e colonne de world_alcohol et assigner le résultat à la variable alcohol_consumption.\n",
    "- Utiliser la méthode astype() pour convertir alcohol_consumption en décimal (float)."
   ]
  },
  {
   "cell_type": "code",
   "execution_count": 6,
   "id": "c9abed83",
   "metadata": {},
   "outputs": [],
   "source": [
    "alcohol_consumption = world_alcohol[:,4]\n",
    "alcohol_consumption = alcohol_consumption.astype(float)"
   ]
  },
  {
   "cell_type": "code",
   "execution_count": 7,
   "id": "4df9a670",
   "metadata": {},
   "outputs": [
    {
     "data": {
      "text/plain": [
       "array([0.  , 0.5 , 1.62, ..., 2.54, 0.  , 5.15])"
      ]
     },
     "execution_count": 7,
     "metadata": {},
     "output_type": "execute_result"
    }
   ],
   "source": [
    "alcohol_consumption"
   ]
  },
  {
   "cell_type": "markdown",
   "id": "82bfd2b9",
   "metadata": {},
   "source": [
    "## Réaliser des calculs mathématiques avec Numpy"
   ]
  },
  {
   "cell_type": "code",
   "execution_count": 8,
   "id": "af28b81a",
   "metadata": {},
   "outputs": [],
   "source": [
    "vector = np.array([5, 10, 15, 20])"
   ]
  },
  {
   "cell_type": "code",
   "execution_count": 9,
   "id": "1a84c397",
   "metadata": {},
   "outputs": [
    {
     "data": {
      "text/plain": [
       "50"
      ]
     },
     "execution_count": 9,
     "metadata": {},
     "output_type": "execute_result"
    }
   ],
   "source": [
    "vector.sum()"
   ]
  },
  {
   "cell_type": "code",
   "execution_count": 10,
   "id": "66bda726",
   "metadata": {},
   "outputs": [
    {
     "data": {
      "text/plain": [
       "12.5"
      ]
     },
     "execution_count": 10,
     "metadata": {},
     "output_type": "execute_result"
    }
   ],
   "source": [
    "vector.mean()"
   ]
  },
  {
   "cell_type": "code",
   "execution_count": 11,
   "id": "a6e371aa",
   "metadata": {},
   "outputs": [
    {
     "data": {
      "text/plain": [
       "20"
      ]
     },
     "execution_count": 11,
     "metadata": {},
     "output_type": "execute_result"
    }
   ],
   "source": [
    "vector.max()"
   ]
  },
  {
   "cell_type": "code",
   "execution_count": 12,
   "id": "45bed874",
   "metadata": {},
   "outputs": [
    {
     "data": {
      "text/plain": [
       "5"
      ]
     },
     "execution_count": 12,
     "metadata": {},
     "output_type": "execute_result"
    }
   ],
   "source": [
    "vector.min()"
   ]
  },
  {
   "cell_type": "code",
   "execution_count": 13,
   "id": "00a10d1d",
   "metadata": {},
   "outputs": [],
   "source": [
    "matrix = np.array([[5,10,15],[20,25,30],[35,40,45]])"
   ]
  },
  {
   "cell_type": "code",
   "execution_count": 14,
   "id": "6a7c0aeb",
   "metadata": {},
   "outputs": [
    {
     "data": {
      "text/plain": [
       "array([[ 5, 10, 15],\n",
       "       [20, 25, 30],\n",
       "       [35, 40, 45]])"
      ]
     },
     "execution_count": 14,
     "metadata": {},
     "output_type": "execute_result"
    }
   ],
   "source": [
    "matrix"
   ]
  },
  {
   "cell_type": "code",
   "execution_count": 15,
   "id": "5e213dcd",
   "metadata": {},
   "outputs": [
    {
     "data": {
      "text/plain": [
       "array([ 30,  75, 120])"
      ]
     },
     "execution_count": 15,
     "metadata": {},
     "output_type": "execute_result"
    }
   ],
   "source": [
    "matrix.sum(axis=1)"
   ]
  },
  {
   "cell_type": "code",
   "execution_count": 16,
   "id": "60ef64ea",
   "metadata": {},
   "outputs": [
    {
     "data": {
      "text/plain": [
       "array([60, 75, 90])"
      ]
     },
     "execution_count": 16,
     "metadata": {},
     "output_type": "execute_result"
    }
   ],
   "source": [
    "matrix.sum(axis=0)"
   ]
  },
  {
   "cell_type": "markdown",
   "id": "6f97437c",
   "metadata": {},
   "source": [
    "## Réaliser des calculs mathématiques avec Numpy\n",
    "\n",
    "- Utiliser la méthode sum() pour calculer la somme des valeurs de alcohol_consumption. Assigner le résultat à la variable total_alcohol.\n",
    "- Utiliser la méthode mean() pour calculer la moyenne des valeurs de alcohol_consumption. Assigner le résultat à la variable average_alcohol.\n",
    "- Afficher les résultats."
   ]
  },
  {
   "cell_type": "code",
   "execution_count": 17,
   "id": "ae7d4105",
   "metadata": {},
   "outputs": [],
   "source": [
    "total_alcohol = alcohol_consumption.sum()\n",
    "average_alcohol = alcohol_consumption.mean()"
   ]
  },
  {
   "cell_type": "code",
   "execution_count": 18,
   "id": "1aba798a",
   "metadata": {},
   "outputs": [
    {
     "name": "stdout",
     "output_type": "stream",
     "text": [
      "3908.96\n"
     ]
    }
   ],
   "source": [
    "print(total_alcohol)"
   ]
  },
  {
   "cell_type": "code",
   "execution_count": 19,
   "id": "d28f652e",
   "metadata": {},
   "outputs": [
    {
     "name": "stdout",
     "output_type": "stream",
     "text": [
      "1.2001719373656738\n"
     ]
    }
   ],
   "source": [
    "print(average_alcohol)"
   ]
  },
  {
   "cell_type": "markdown",
   "id": "59637727",
   "metadata": {},
   "source": [
    "## Calculer la consommation totale annuelle par habitant pour un pays donné\n",
    "- Créer une matrice qu'on nommera canada_1986 qui contient toutes les lignes de world_alcohol correspondant à l'année \"1986\" et au pays \"Canada\".\n",
    "- Extraire la 5e colonne de canada_1986, remplacer toute chaine de caractères vides ('') par '0' et convertir la colonne en décimal (float). Assigner le résultat à la variable canada_alcohol.\n",
    "- Calculer la somme de canada_alcohol. Assigner le résultat à la variable total_canadian_drinking.\n",
    "- Afficher le résultat."
   ]
  },
  {
   "cell_type": "code",
   "execution_count": 20,
   "id": "7e4db31b",
   "metadata": {},
   "outputs": [],
   "source": [
    "canada_1986 = world_alcohol[(world_alcohol[:,0] == \"1986\") & (world_alcohol[:,2] == \"Canada\")]\n",
    "canada_alcohol = canada_1986[:,4]\n",
    "canada_alcohol = canada_alcohol.astype(float)\n",
    "total_canadian_drinking = canada_alcohol.sum()"
   ]
  },
  {
   "cell_type": "code",
   "execution_count": 21,
   "id": "2577daac",
   "metadata": {},
   "outputs": [
    {
     "name": "stdout",
     "output_type": "stream",
     "text": [
      "[['1986' 'Americas' 'Canada' 'Other' '0']\n",
      " ['1986' 'Americas' 'Canada' 'Spirits' '3.11']\n",
      " ['1986' 'Americas' 'Canada' 'Beer' '4.87']\n",
      " ['1986' 'Americas' 'Canada' 'Wine' '1.33']]\n"
     ]
    }
   ],
   "source": [
    "print(canada_1986)"
   ]
  },
  {
   "cell_type": "code",
   "execution_count": 22,
   "id": "76f71533",
   "metadata": {},
   "outputs": [
    {
     "name": "stdout",
     "output_type": "stream",
     "text": [
      "[0.   3.11 4.87 1.33]\n"
     ]
    }
   ],
   "source": [
    "print(canada_alcohol)"
   ]
  },
  {
   "cell_type": "code",
   "execution_count": 23,
   "id": "c4304ff0",
   "metadata": {},
   "outputs": [
    {
     "name": "stdout",
     "output_type": "stream",
     "text": [
      "9.31\n"
     ]
    }
   ],
   "source": [
    "print(total_canadian_drinking)"
   ]
  },
  {
   "cell_type": "markdown",
   "id": "9d885b57",
   "metadata": {},
   "source": [
    "## Calculer la consommation pour chaque pays\n",
    "- Tout d'abord, on crée un dictionnaire vide qui va contenir tous les pays et leurs consommations d'alcool associées, on le nommera totals.\n",
    "- Sélectionner ensuite les lignes de world_alcohol correspondant à l'année donnée, disons 1989. Assigner le résultat à la variable year.\n",
    "- Sélectionner dans une liste qu'on nommera countries tous les pays.\n",
    "- Parcourir tous les pays de la liste à l'aide d'une boucle. Pour chaque pays:\n",
    "    - Sélectionner les lignes de year correspondant à ce pays\n",
    "    - Assigner le résultat à la variable country_consumption\n",
    "    - Extraire la 5e colonne de country_consumption\n",
    "    - Remplacer toute chaine de caractères vide dans cette colonne par 0\n",
    "    - Convertir la colonne en décimal (float)\n",
    "    - Calculer la somme de la colonne\n",
    "    - Ajouter la somme au dictionnaire totals, avec comme clé le nom du pays et en valeur cette somme.\n",
    "- Afficher le dictionnaire totals."
   ]
  },
  {
   "cell_type": "code",
   "execution_count": 25,
   "id": "3249f15a",
   "metadata": {},
   "outputs": [
    {
     "name": "stdout",
     "output_type": "stream",
     "text": [
      "{'Viet Nam': 0.16, 'Uruguay': 7.4399999999999995, \"Cte d'Ivoire\": 2.2, 'Colombia': 6.960000000000001, 'Saint Kitts and Nevis': 4.65, 'Guatemala': 2.47, 'Mauritius': 3.54, 'Angola': 2.28, 'Antigua and Barbuda': 4.69, 'Nigeria': 6.74, 'Botswana': 4.63, \"Lao People's Democratic Republic\": 5.95, 'Afghanistan': 0.0, 'Guinea-Bissau': 2.67, 'Costa Rica': 5.3999999999999995, 'Seychelles': 3.3000000000000003, 'Norway': 5.08, 'Kenya': 2.82, 'Myanmar': 0.16, 'Romania': 8.41, 'Turkey': 0.72, 'Comoros': 0.10999999999999999, 'Tunisia': 0.95, 'United Kingdom of Great Britain and Northern Ireland': 9.99, 'Bahrain': 4.89, 'Italy': 10.899999999999999, 'Sierra Leone': 4.380000000000001, 'Micronesia (Federated States of)': 0.0, 'Mauritania': 0.02, 'Russian Federation': 5.35, 'Egypt': 0.42000000000000004, 'Sweden': 7.47, 'Qatar': 1.4500000000000002, 'Burkina Faso': 3.99, 'Austria': 13.9, 'Czech Republic': 13.009999999999998, 'Ukraine': 5.32, 'China': 3.33, 'Lithuania': 0.0, 'Zimbabwe': 4.92, 'Trinidad and Tobago': 4.68, 'Mexico': 5.1, 'Nicaragua': 2.5, 'Malta': 7.13, 'Switzerland': 13.849999999999998, 'Finland': 9.419999999999998, 'Saudi Arabia': 0.15, 'Kuwait': 0.0, 'El Salvador': 1.77, 'Suriname': 3.67, 'Croatia': 10.92, 'Somalia': 0.0, 'Syrian Arab Republic': 0.54, 'Iran (Islamic Republic of)': 0.0, 'Papua New Guinea': 1.1099999999999999, 'Libya': 0.0, 'Bolivia (Plurinational State of)': 3.05, 'Iraq': 0.75, 'Namibia': 0.24, 'Uganda': 7.8, 'Togo': 2.2199999999999998, 'Madagascar': 1.38, 'Mali': 0.6699999999999999, 'Pakistan': 0.02, 'Cameroon': 6.359999999999999, 'Jamaica': 3.03, 'Malawi': 1.02, 'Netherlands': 10.030000000000001, 'Ireland': 11.79, 'Sri Lanka': 0.14, 'Democratic Republic of the Congo': 1.92, 'Bahamas': 12.290000000000001, 'Lebanon': 3.94, 'Bulgaria': 11.43, 'Eritrea': 0.29, 'Niger': 0.11, 'Luxembourg': 15.21, 'Indonesia': 0.07, 'Equatorial Guinea': 6.49, \"Democratic People's Republic of Korea\": 3.6799999999999997, 'Chile': 8.649999999999999, 'Central African Republic': 2.5199999999999996, 'Spain': 13.280000000000001, 'Gambia': 1.6300000000000001, 'Ghana': 1.8599999999999999, 'Brazil': 5.52, 'Portugal': 15.350000000000001, 'Burundi': 8.159999999999998, 'Belgium': 11.61, 'Paraguay': 6.51, 'Hungary': 16.29, 'Greece': 10.15, 'India': 1.66, 'Kyrgyzstan': 4.279999999999999, 'France': 16.05, 'Zambia': 3.37, 'Israel': 2.0300000000000002, 'Swaziland': 6.68, 'Canada': 9.0, 'Cambodia': 0.33, 'Cabo Verde': 2.79, 'United Arab Emirates': 4.43, 'Peru': 4.99, 'Solomon Islands': 0.5800000000000001, 'United Republic of Tanzania': 5.9, 'Chad': 0.30000000000000004, 'Cuba': 4.37, 'Guyana': 9.940000000000001, 'Mongolia': 2.59, 'Australia': 12.09, 'Sao Tome and Principe': 2.57, 'Slovenia': 12.969999999999999, 'Benin': 1.3800000000000001, 'Algeria': 0.4, 'Venezuela (Bolivarian Republic of)': 7.87, 'Ecuador': 2.54, 'Iceland': 5.359999999999999, 'Liberia': 5.61, 'Yemen': 0.2, 'Sudan': 0.15, 'Belarus': 7.9799999999999995, 'Cyprus': 9.29, 'United States of America': 9.16, 'Vanuatu': 1.74, 'Bangladesh': 0.0, 'Philippines': 3.78, 'Slovakia': 12.700000000000001, 'Poland': 9.33, 'Senegal': 0.6100000000000001, 'Honduras': 2.15, 'Bhutan': 0.31, 'Fiji': 1.9600000000000002, 'Belize': 0.0, 'Lesotho': 2.02, 'Singapore': 1.61, 'Guinea': 0.21, 'Brunei Darussalam': 2.7800000000000002, 'Congo': 3.1500000000000004, 'Thailand': 3.92, 'Djibouti': 0.87, 'Gabon': 9.34, 'Dominican Republic': 4.53, 'Morocco': 0.7, 'New Zealand': 11.52, 'Denmark': 11.649999999999999, 'Samoa': 2.63, 'Argentina': 10.82, 'Oman': 1.03, 'Kiribati': 0.48, 'Albania': 1.73, 'Nepal': 0.03, 'Malaysia': 0.68, 'Latvia': 7.039999999999999, 'Haiti': 5.81, 'South Africa': 9.21, 'Republic of Korea': 9.620000000000001, 'Japan': 7.74, 'Mozambique': 0.39, 'Ethiopia': 0.8600000000000001, 'Panama': 4.6000000000000005, 'Germany': 14.64, 'Saint Lucia': 11.62, 'Rwanda': 7.549999999999999, 'Jordan': 0.19}\n"
     ]
    }
   ],
   "source": [
    "totals = {}\n",
    "is_year = world_alcohol[:,0] == \"1989\"\n",
    "year = world_alcohol[is_year,:]\n",
    "countries = world_alcohol[:,2]\n",
    "\n",
    "for country in countries:\n",
    "    is_country = year[:,2] == country\n",
    "    country_consumption = year[is_country,:]\n",
    "    alcohol_column = country_consumption[:,4]\n",
    "    is_empty = alcohol_column == \"\"\n",
    "    alcohol_column[is_empty] = \"0\"\n",
    "    alcohol_column = alcohol_column.astype(float)\n",
    "    totals[country] = alcohol_column.sum()\n",
    "\n",
    "print(totals)"
   ]
  },
  {
   "cell_type": "markdown",
   "id": "50308ce4",
   "metadata": {},
   "source": [
    "## Trouver le pays qui consomme le plus d'alcool\n",
    "- Créer une variable highest_value qui gardera en mémoire la plus grande valeur du dictionnaire totals. On la fixe à 0 pour commencer.\n",
    "- Créer une variable similaire qu'on nommera highest_key qui gardera en mémoire le nom du pays associé à la plus grande valeur. On la fixe à la valeur None.\n",
    "- Parcourir chaque pays du dictionnaire totals:\n",
    "    - Si la valeur associée au pays est plus grande que highest_value, assigner la valeur en question à la variable highest_value et assigner la clé correspondante (nom du pays) à la variable highest_key.\n",
    "- Afficher le pays qui consomme le plus d'alcool (variable highest_key)"
   ]
  },
  {
   "cell_type": "code",
   "execution_count": 26,
   "id": "075509b8",
   "metadata": {},
   "outputs": [
    {
     "name": "stdout",
     "output_type": "stream",
     "text": [
      "Hungary\n"
     ]
    }
   ],
   "source": [
    "highest_value = 0\n",
    "highest_key = None\n",
    "\n",
    "for country in totals:\n",
    "    consumption = totals[country]\n",
    "    if highest_value < consumption:\n",
    "        highest_value = consumption\n",
    "        highest_key = country\n",
    "        \n",
    "print(highest_key)"
   ]
  },
  {
   "cell_type": "code",
   "execution_count": null,
   "id": "baf0492a",
   "metadata": {},
   "outputs": [],
   "source": []
  }
 ],
 "metadata": {
  "kernelspec": {
   "display_name": "Python 3",
   "language": "python",
   "name": "python3"
  },
  "language_info": {
   "codemirror_mode": {
    "name": "ipython",
    "version": 3
   },
   "file_extension": ".py",
   "mimetype": "text/x-python",
   "name": "python",
   "nbconvert_exporter": "python",
   "pygments_lexer": "ipython3",
   "version": "3.8.5"
  }
 },
 "nbformat": 4,
 "nbformat_minor": 5
}
