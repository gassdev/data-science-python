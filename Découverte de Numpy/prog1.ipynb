{
 "cells": [
  {
   "cell_type": "markdown",
   "id": "ed2a9f24",
   "metadata": {},
   "source": [
    "# Découverte de Numpy"
   ]
  },
  {
   "cell_type": "markdown",
   "id": "0e7967a2",
   "metadata": {},
   "source": [
    "### Les tableaux avec numpy"
   ]
  },
  {
   "cell_type": "code",
   "execution_count": 1,
   "id": "26a7fb2e",
   "metadata": {},
   "outputs": [],
   "source": [
    "import numpy as np\n",
    "vector = np.array([3, 4, 17, 65])"
   ]
  },
  {
   "cell_type": "code",
   "execution_count": 4,
   "id": "f542e2da",
   "metadata": {},
   "outputs": [
    {
     "name": "stdout",
     "output_type": "stream",
     "text": [
      "[ 3  4 17 65]\n"
     ]
    }
   ],
   "source": [
    "print(vector)"
   ]
  },
  {
   "cell_type": "code",
   "execution_count": 5,
   "id": "221dee51",
   "metadata": {},
   "outputs": [],
   "source": [
    "matrix = np.array([[2, 5, 15], [20, 50, 30], [34, 99, 45]])"
   ]
  },
  {
   "cell_type": "code",
   "execution_count": 6,
   "id": "c9dfc6a3",
   "metadata": {},
   "outputs": [
    {
     "name": "stdout",
     "output_type": "stream",
     "text": [
      "[[ 2  5 15]\n",
      " [20 50 30]\n",
      " [34 99 45]]\n"
     ]
    }
   ],
   "source": [
    "print(matrix)"
   ]
  },
  {
   "cell_type": "markdown",
   "id": "bfb30d0b",
   "metadata": {},
   "source": [
    "#### taille d'un vecteur"
   ]
  },
  {
   "cell_type": "code",
   "execution_count": 9,
   "id": "310a9be6",
   "metadata": {},
   "outputs": [
    {
     "name": "stdout",
     "output_type": "stream",
     "text": [
      "(4,)\n"
     ]
    }
   ],
   "source": [
    "vector_shape = vector.shape\n",
    "print(vector_shape)"
   ]
  },
  {
   "cell_type": "markdown",
   "id": "f4ebbb05",
   "metadata": {},
   "source": [
    "#### taille d'une matrice"
   ]
  },
  {
   "cell_type": "code",
   "execution_count": 10,
   "id": "698425c1",
   "metadata": {},
   "outputs": [
    {
     "name": "stdout",
     "output_type": "stream",
     "text": [
      "(3, 3)\n"
     ]
    }
   ],
   "source": [
    "matrix_shape = matrix.shape\n",
    "print(matrix_shape)"
   ]
  },
  {
   "cell_type": "code",
   "execution_count": null,
   "id": "20503e92",
   "metadata": {},
   "outputs": [],
   "source": []
  }
 ],
 "metadata": {
  "kernelspec": {
   "display_name": "Python 3",
   "language": "python",
   "name": "python3"
  },
  "language_info": {
   "codemirror_mode": {
    "name": "ipython",
    "version": 3
   },
   "file_extension": ".py",
   "mimetype": "text/x-python",
   "name": "python",
   "nbconvert_exporter": "python",
   "pygments_lexer": "ipython3",
   "version": "3.8.5"
  }
 },
 "nbformat": 4,
 "nbformat_minor": 5
}
