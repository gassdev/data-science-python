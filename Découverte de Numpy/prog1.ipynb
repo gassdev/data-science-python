{
 "cells": [
  {
   "cell_type": "markdown",
   "id": "0c5f8629",
   "metadata": {},
   "source": [
    "# Découverte de Numpy"
   ]
  },
  {
   "cell_type": "markdown",
   "id": "49d3e540",
   "metadata": {},
   "source": [
    "### Les tableaux avec numpy"
   ]
  },
  {
   "cell_type": "code",
   "execution_count": 1,
   "id": "42c812d3",
   "metadata": {},
   "outputs": [],
   "source": [
    "import numpy as np\n",
    "vector = np.array([3, 4, 17, 65])"
   ]
  },
  {
   "cell_type": "code",
   "execution_count": 4,
   "id": "a8557b87",
   "metadata": {},
   "outputs": [
    {
     "name": "stdout",
     "output_type": "stream",
     "text": [
      "[ 3  4 17 65]\n"
     ]
    }
   ],
   "source": [
    "print(vector)"
   ]
  },
  {
   "cell_type": "code",
   "execution_count": 5,
   "id": "45e64bf6",
   "metadata": {},
   "outputs": [],
   "source": [
    "matrix = np.array([[2, 5, 15], [20, 50, 30], [34, 99, 45]])"
   ]
  },
  {
   "cell_type": "code",
   "execution_count": 6,
   "id": "8c47777d",
   "metadata": {},
   "outputs": [
    {
     "name": "stdout",
     "output_type": "stream",
     "text": [
      "[[ 2  5 15]\n",
      " [20 50 30]\n",
      " [34 99 45]]\n"
     ]
    }
   ],
   "source": [
    "print(matrix)"
   ]
  },
  {
   "cell_type": "markdown",
   "id": "b91607d6",
   "metadata": {},
   "source": [
    "#### taille d'un vecteur"
   ]
  },
  {
   "cell_type": "code",
   "execution_count": 9,
   "id": "bbae446d",
   "metadata": {},
   "outputs": [
    {
     "name": "stdout",
     "output_type": "stream",
     "text": [
      "(4,)\n"
     ]
    }
   ],
   "source": [
    "vector_shape = vector.shape\n",
    "print(vector_shape)"
   ]
  },
  {
   "cell_type": "markdown",
   "id": "a7b022fd",
   "metadata": {},
   "source": [
    "#### taille d'une matrice"
   ]
  },
  {
   "cell_type": "code",
   "execution_count": 10,
   "id": "2c8b6e1d",
   "metadata": {},
   "outputs": [
    {
     "name": "stdout",
     "output_type": "stream",
     "text": [
      "(3, 3)\n"
     ]
    }
   ],
   "source": [
    "matrix_shape = matrix.shape\n",
    "print(matrix_shape)"
   ]
  },
  {
   "cell_type": "code",
   "execution_count": null,
   "id": "ead881aa",
   "metadata": {},
   "outputs": [],
   "source": []
  }
 ],
 "metadata": {
  "kernelspec": {
   "display_name": "Python 3",
   "language": "python",
   "name": "python3"
  },
  "language_info": {
   "codemirror_mode": {
    "name": "ipython",
    "version": 3
   },
   "file_extension": ".py",
   "mimetype": "text/x-python",
   "name": "python",
   "nbconvert_exporter": "python",
   "pygments_lexer": "ipython3",
   "version": "3.8.5"
  }
 },
 "nbformat": 4,
 "nbformat_minor": 5
}
