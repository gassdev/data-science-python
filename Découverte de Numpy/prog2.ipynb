{
 "cells": [
  {
   "cell_type": "markdown",
   "id": "f89445cd",
   "metadata": {},
   "source": [
    "# Découverte de Numpy"
   ]
  },
  {
   "cell_type": "markdown",
   "id": "393ee4ed",
   "metadata": {},
   "source": [
    "## Lire un dataset avec Numpy"
   ]
  },
  {
   "cell_type": "markdown",
   "id": "247dce29",
   "metadata": {},
   "source": [
    "### Fonction numpy pour lire un dataset: numpy.genfromtxt()"
   ]
  },
  {
   "cell_type": "code",
   "execution_count": 4,
   "id": "63efe52e",
   "metadata": {},
   "outputs": [],
   "source": [
    "import numpy as np\n",
    "test = np.genfromtxt(\"../data.csv\", delimiter=\",\")"
   ]
  },
  {
   "cell_type": "code",
   "execution_count": 5,
   "id": "38f827d6",
   "metadata": {},
   "outputs": [
    {
     "name": "stdout",
     "output_type": "stream",
     "text": [
      "<class 'numpy.ndarray'>\n"
     ]
    }
   ],
   "source": [
    "print(type(test))"
   ]
  },
  {
   "cell_type": "markdown",
   "id": "09e812ee",
   "metadata": {},
   "source": [
    "## Les types de données avec Numpy"
   ]
  },
  {
   "cell_type": "code",
   "execution_count": 9,
   "id": "98af7932",
   "metadata": {},
   "outputs": [
    {
     "name": "stdout",
     "output_type": "stream",
     "text": [
      "int64\n"
     ]
    }
   ],
   "source": [
    "numbers_array = np.array([1, 2, 3, 4])\n",
    "numbers_array_dtype = numbers_array.dtype\n",
    "print(numbers_array_dtype)"
   ]
  },
  {
   "cell_type": "code",
   "execution_count": null,
   "id": "a6cfb89c",
   "metadata": {},
   "outputs": [],
   "source": []
  }
 ],
 "metadata": {
  "kernelspec": {
   "display_name": "Python 3",
   "language": "python",
   "name": "python3"
  },
  "language_info": {
   "codemirror_mode": {
    "name": "ipython",
    "version": 3
   },
   "file_extension": ".py",
   "mimetype": "text/x-python",
   "name": "python",
   "nbconvert_exporter": "python",
   "pygments_lexer": "ipython3",
   "version": "3.8.5"
  }
 },
 "nbformat": 4,
 "nbformat_minor": 5
}
